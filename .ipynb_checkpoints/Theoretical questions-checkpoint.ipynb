{
 "metadata": {
  "name": "",
  "signature": "sha256:6f0eb8f7285552537f25c85358208d26a9e84c14661ca21dcced01a8c08698c9"
 },
 "nbformat": 3,
 "nbformat_minor": 0,
 "worksheets": [
  {
   "cells": [
    {
     "cell_type": "markdown",
     "metadata": {},
     "source": [
      "1. \u041a\u0430\u043a \u043f\u043e\u043b\u0443\u0447\u0438\u0442\u044c \u0441\u043f\u0438\u0441\u043e\u043a \u0432\u0441\u0435\u0445 \u0430\u0442\u0440\u0438\u0431\u0443\u0442\u043e\u0432 \u043e\u0431\u044a\u0435\u043a\u0442\u0430?"
     ]
    },
    {
     "cell_type": "code",
     "collapsed": false,
     "input": [
      "obj = 3\n",
      "dir(a)"
     ],
     "language": "python",
     "metadata": {},
     "outputs": []
    },
    {
     "cell_type": "markdown",
     "metadata": {},
     "source": [
      "2. \u041a\u0430\u043a \u043f\u043e\u043b\u0443\u0447\u0438\u0442\u044c \u0441\u043f\u0438\u0441\u043e\u043a \u0432\u0441\u0435\u0445 \u043f\u0443\u0431\u043b\u0438\u0447\u043d\u044b\u0445 \u0430\u0442\u0440\u0438\u0431\u0443\u0442\u043e\u0432 \u043e\u0431\u044a\u0435\u043a\u0442\u0430? "
     ]
    },
    {
     "cell_type": "code",
     "collapsed": false,
     "input": [
      "obj = 3\n",
      "print [arg for arg in dir(a) if not arg.startswith('_')]"
     ],
     "language": "python",
     "metadata": {},
     "outputs": []
    },
    {
     "cell_type": "markdown",
     "metadata": {},
     "source": [
      "3. \u041a\u0430\u043a \u043f\u043e\u043b\u0443\u0447\u0438\u0442\u044c \u0441\u043f\u0438\u0441\u043e\u043a \u043c\u0435\u0442\u043e\u0434\u043e\u0432 \u043e\u0431\u044a\u0435\u043a\u0442\u0430"
     ]
    },
    {
     "cell_type": "code",
     "collapsed": false,
     "input": [],
     "language": "python",
     "metadata": {},
     "outputs": []
    },
    {
     "cell_type": "markdown",
     "metadata": {},
     "source": [
      "4. \u0412 \u043a\u0430\u043a\u043e\u0439 \"\u043c\u0430\u0433\u0438\u0447\u0435\u0441\u043a\u043e\u0439\" \u043f\u0435\u0440\u0435\u043c\u0435\u043d\u043d\u043e\u0439 \u0445\u0440\u0430\u043d\u0438\u0442\u0441\u044f \u0441\u043e\u0434\u0435\u0440\u0436\u0438\u043c\u043e\u0435 help?"
     ]
    },
    {
     "cell_type": "code",
     "collapsed": false,
     "input": [
      "obj = 3\n",
      "print obj.__doc__"
     ],
     "language": "python",
     "metadata": {},
     "outputs": []
    },
    {
     "cell_type": "markdown",
     "metadata": {},
     "source": [
      "5.  \u0415\u0441\u0442\u044c \u0434\u0432\u0430 \u043a\u043e\u0440\u0442\u0435\u0436\u0430, \u043f\u043e\u043b\u0443\u0447\u0438\u0442\u044c \u0442\u0440\u0435\u0442\u0438\u0439 \u043a\u0430\u043a \u043a\u043e\u043d\u043a\u0430\u0442\u0435\u043d\u0430\u0446\u0438\u044e \u043f\u0435\u0440\u0432\u044b\u0445 \u0434\u0432\u0443\u0445?"
     ]
    },
    {
     "cell_type": "code",
     "collapsed": false,
     "input": [
      "a = (1,2,3)\n",
      "b = (4,5)\n",
      "a+b"
     ],
     "language": "python",
     "metadata": {},
     "outputs": []
    },
    {
     "cell_type": "markdown",
     "metadata": {},
     "source": [
      "6. \u0415\u0441\u0442\u044c \u0434\u0432\u0430 \u043a\u043e\u0440\u0442\u0435\u0436\u0430, \u043f\u043e\u043b\u0443\u0447\u0438\u0442\u044c \u0442\u0440\u0435\u0442\u0438\u0439 \u043a\u0430\u043a \u043e\u0431\u044a\u0435\u0434\u0438\u043d\u0435\u043d\u0438\u0435 \u0443\u043d\u0438\u043a\u0430\u043b\u044c\u043d\u044b\u0445 \u044d\u043b\u0435\u043c\u0435\u043d\u0442\u043e\u0432 \u043f\u0435\u0440\u0432\u044b\u0445 \u0434\u0432\u0443\u0445 \u043a\u043e\u0440\u0442\u0435\u0436\u0435\u0439?"
     ]
    },
    {
     "cell_type": "code",
     "collapsed": false,
     "input": [
      "a = (1,2,2,3)\n",
      "b = (4,3,3,5)\n",
      "set(a)|(set(b))"
     ],
     "language": "python",
     "metadata": {},
     "outputs": []
    },
    {
     "cell_type": "markdown",
     "metadata": {},
     "source": [
      "7. \u041f\u043e\u0447\u0435\u043c\u0443 \u0435\u0441\u043b\u0438 \u0432 \u0446\u0438\u043a\u043b\u0435 \u043c\u0435\u043d\u044f\u0435\u0442\u0441\u044f \u0441\u043f\u0438\u0441\u043e\u043a, \u0442\u043e \u0438\u0441\u043f\u043e\u043b\u044c\u0437\u0443\u0435\u0442\u0441\u044f for x in lst[:], \u0447\u0442\u043e \u043e\u0437\u043d\u0430\u0447\u0430\u0435\u0442 [:]?\n",
      "\u041e\u0442\u0432\u0435\u0442: \u0441\u043e\u0437\u0434\u0430\u0435\u0442 \u043a\u043e\u043f\u0438\u044e \u0441\u043f\u0438\u0441\u043a\u0430"
     ]
    },
    {
     "cell_type": "markdown",
     "metadata": {},
     "source": [
      "8. \u0415\u0441\u0442\u044c \u0434\u0432\u0430 \u0441\u043f\u0438\u0441\u043a\u0430 \u043e\u0434\u0438\u043d\u0430\u043a\u043e\u0432\u043e\u0439 \u0434\u043b\u0438\u043d\u044b, \u0432 \u043e\u0434\u043d\u043e\u043c \u043a\u043b\u044e\u0447\u0438, \u0432 \u0434\u0440\u0443\u0433\u043e\u043c \u0437\u043d\u0430\u0447\u0435\u043d\u0438\u044f. \u0421\u043e\u0441\u0442\u0430\u0432\u0438\u0442\u044c \u0441\u043b\u043e\u0432\u0430\u0440\u044c."
     ]
    },
    {
     "cell_type": "code",
     "collapsed": false,
     "input": [
      "capitals = [\"Moscow\",\"London\",\"Paris\"]\n",
      "countries = [\"Russia\",\"England\",\"France\"]\n",
      "dict(zip(countries,capitals))"
     ],
     "language": "python",
     "metadata": {},
     "outputs": []
    },
    {
     "cell_type": "markdown",
     "metadata": {},
     "source": [
      "9. \u0415\u0441\u0442\u044c \u0434\u0432\u0430 \u0441\u043f\u0438\u0441\u043a\u0430 \u0440\u0430\u0437\u043d\u043e\u0439 \u0434\u043b\u0438\u043d\u044b, \u0432 \u043e\u0434\u043d\u043e\u043c \u043a\u043b\u044e\u0447\u0438, \u0432 \u0434\u0440\u0443\u0433\u043e\u043c \u0437\u043d\u0430\u0447\u0435\u043d\u0438\u044f. \u0421\u043e\u0441\u0442\u0430\u0432\u0438\u0442\u044c \u0441\u043b\u043e\u0432\u0430\u0440\u044c.\n",
      "    \u0414\u043b\u044f \u043a\u043b\u044e\u0447\u0435\u0439, \u0434\u043b\u044f \u043a\u043e\u0442\u043e\u0440\u044b\u0445 \u043d\u0435\u0442 \u0437\u043d\u0430\u0447\u0435\u043d\u0438\u0439 \u0438\u0441\u043f\u043e\u043b\u044c\u0437\u043e\u0432\u0430\u0442\u044c None \u0432 \u043a\u0430\u0447\u0435\u0441\u0442\u0432\u0435 \u0437\u043d\u0430\u0447\u0435\u043d\u0438\u044f.\n",
      "    \u0417\u043d\u0430\u0447\u0435\u043d\u0438\u044f, \u0434\u043b\u044f \u043a\u043e\u0442\u043e\u0440\u044b\u0445 \u043d\u0435\u0442 \u043a\u043b\u044e\u0447\u0435\u0439 \u0438\u0433\u043d\u043e\u0440\u0438\u0440\u043e\u0432\u0430\u0442\u044c."
     ]
    },
    {
     "cell_type": "code",
     "collapsed": false,
     "input": [
      "capitals = [\"Moscow\",\"London\"]\n",
      "countries = [\"Russia\",\"England\",\"France\",\"USA\"]\n",
      "for k in countries:\n",
      "\tif countries.index(k)>len(capitals)-1:\n",
      "\t\tcapitals.append(\"None\")\n",
      "dict(zip(countries,capitals))"
     ],
     "language": "python",
     "metadata": {},
     "outputs": []
    },
    {
     "cell_type": "markdown",
     "metadata": {},
     "source": [
      "10. \u0415\u0441\u0442\u044c \u0441\u043b\u043e\u0432\u0430\u0440\u044c. \u0418\u043d\u0432\u0435\u0440\u0442\u0438\u0440\u043e\u0432\u0430\u0442\u044c \u0435\u0433\u043e. \u0422.\u0435. \u043f\u0430\u0440\u044b \u043a\u043b\u044e\u0447: \u0437\u043d\u0430\u0447\u0435\u043d\u0438\u0435 \u043f\u043e\u043c\u0435\u043d\u044f\u0442\u044c \u043c\u0435\u0441\u0442\u0430\u043c\u0438 \u2014 \u0437\u043d\u0430\u0447\u0435\u043d\u0438\u0435: \u043a\u043b\u044e\u0447."
     ]
    },
    {
     "cell_type": "code",
     "collapsed": false,
     "input": [
      "capitals = [\"Moscow\",\"London\",\"Paris\"]\n",
      "countries = [\"Russia\",\"England\",\"France\"]\n",
      "dict=dict(zip(countries,capitals))\n",
      "inverse_dict = {v:k for k, v in dict.items()}\n",
      "inverse_dict"
     ],
     "language": "python",
     "metadata": {},
     "outputs": []
    },
    {
     "cell_type": "markdown",
     "metadata": {},
     "source": [
      "11. \u0415\u0441\u0442\u044c \u0441\u0442\u0440\u043e\u043a\u0430 \u0432 \u044e\u043d\u0438\u043a\u043e\u0434\u0435, \u043f\u043e\u043b\u0443\u0447\u0438\u0442\u044c 8-\u0431\u0438\u0442\u043d\u0443\u044e \u0441\u0442\u0440\u043e\u043a\u0443 \u0432 \u043a\u043e\u0434\u0438\u0440\u043e\u0432\u043a\u0435 utf-8 \u0438 cp1251"
     ]
    },
    {
     "cell_type": "code",
     "collapsed": false,
     "input": [
      "u\"test\".encode('utf-8')\n",
      "u\"test\".encode(\"cp1251\")"
     ],
     "language": "python",
     "metadata": {},
     "outputs": []
    },
    {
     "cell_type": "markdown",
     "metadata": {},
     "source": [
      "12. \u0415\u0441\u0442\u044c \u0441\u0442\u0440\u043e\u043a\u0430 \u0432 \u043a\u043e\u0434\u0438\u0440\u043e\u0432\u043a\u0435 cp1251, \u043f\u043e\u043b\u0443\u0447\u0438\u0442\u044c \u044e\u043d\u0438\u043a\u043e\u0434\u043d\u0443\u044e \u0441\u0442\u0440\u043e\u043a\u0443."
     ]
    },
    {
     "cell_type": "code",
     "collapsed": false,
     "input": [
      "'test'.decode('cp1251').encode('utf-8')"
     ],
     "language": "python",
     "metadata": {},
     "outputs": []
    }
   ],
   "metadata": {}
  }
 ]
}