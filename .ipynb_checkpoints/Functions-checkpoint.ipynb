{
 "metadata": {
  "name": "",
  "signature": "sha256:952f98f36d76729747dae85b9bf2b16759c6335a9a4b36c906b3070d11ffa820"
 },
 "nbformat": 3,
 "nbformat_minor": 0,
 "worksheets": [
  {
   "cells": [
    {
     "cell_type": "markdown",
     "metadata": {},
     "source": [
      "1. \u041d\u0430\u043f\u0438\u0441\u0430\u0442\u044c \u0444\u0443\u043d\u043a\u0446\u0438\u044e, \u043a\u043e\u0442\u043e\u0440\u043e\u0439 \u043c\u043e\u0436\u043d\u043e \u043f\u0435\u0440\u0435\u0434\u0430\u0432\u0430\u0442\u044c \u0430\u0440\u0433\u0443\u043c\u0435\u043d\u0442\u044b \u043b\u0438\u0431\u043e \u0441\u043f\u0438\u0441\u043a\u043e\u043c/\u043a\u043e\u0440\u0442\u0435\u0436\u0435\u043c, \u043b\u0438\u0431\u043e \u043f\u043e \u043e\u0434\u043d\u043e\u043c\u0443. \u0424\u0443\u043d\u043a\u0446\u0438\u044f \u043f\u0440\u043e\u0438\u0437\u0432\u043e\u0434\u0438\u0442 \u0441\u0443\u043c\u043c\u0438\u0440\u043e\u0432\u0430\u043d\u0438\u0435 \u0432\u0441\u0435\u0445 \u0430\u0440\u0433\u0443\u043c\u0435\u043d\u0442\u043e\u0432."
     ]
    },
    {
     "cell_type": "code",
     "collapsed": false,
     "input": [
      "def summit(*args):\n",
      "    \"\"\"\n",
      "    Returns sum of the args.\n",
      "\n",
      "    >>> summit(1)\n",
      "    1\n",
      "\n",
      "    >>> summit(2, 2)\n",
      "    4\n",
      "\n",
      "    >>> summit(1, 2, (3, 4))\n",
      "    10\n",
      "\n",
      "    >>> summit(1, ([2,3],5))\n",
      "    11\n",
      "\n",
      "    >>> summit(-1, 1.0)\n",
      "    0.0\n",
      "    \"\"\"\n",
      "    summ = 0\n",
      "    for x in args:\n",
      "        if isinstance(x,(tuple, list)):\n",
      "            for i in x:\n",
      "                summ+=summit(i)\n",
      "        else:\n",
      "            summ=summ+x\n",
      "    return summ    \t\n",
      "\n",
      "if __name__ == \"__main__\":\n",
      "    import doctest\n",
      "    doctest.testmod()\n",
      "summit(1, ([2,3],5))"
     ],
     "language": "python",
     "metadata": {},
     "outputs": [
      {
       "metadata": {},
       "output_type": "pyout",
       "prompt_number": 1,
       "text": [
        "11"
       ]
      }
     ],
     "prompt_number": 1
    },
    {
     "cell_type": "markdown",
     "metadata": {},
     "source": [
      "2. \u041d\u0430\u043f\u0438\u0441\u0430\u0442\u044c \u0444\u0443\u043d\u043a\u0446\u0438\u044e-\u0444\u0430\u0431\u0440\u0438\u043a\u0443, \u043a\u043e\u0442\u043e\u0440\u0430\u044f \u0431\u0443\u0434\u0435\u0442 \u0432\u043e\u0437\u0432\u0440\u0430\u0449\u0430\u0442\u044c \u0444\u0443\u043d\u043a\u0446\u0438\u044e \u0441\u043b\u043e\u0436\u0435\u043d\u0438\u044f \u0441 \u0430\u0440\u0433\u0443\u043c\u0435\u043d\u0442\u043e\u043c. \u041d\u0430\u043f\u0438\u0441\u0430\u0442\u044c \u0432\u0430\u0440\u0438\u0430\u043d\u0442\u044b \u0441 \u043e\u0431\u044b\u0447\u043d\u043e\u0439 \"\u0432\u043d\u0443\u0442\u0440\u0435\u043d\u043d\u0435\u0439\" \u0438 \u0430\u043d\u043e\u043d\u0438\u043c\u043d\u043e\u0439 lambda-\u0444\u0443\u043d\u043a\u0446\u0438\u0435\u0439."
     ]
    },
    {
     "cell_type": "code",
     "collapsed": false,
     "input": [
      "def addition(additional):\n",
      "    \"\"\"\n",
      "    >>> add5 = addition(5)\n",
      "    >>> add5(3)\n",
      "    8\n",
      "\n",
      "    >>> add2 = addition(-2)\n",
      "    >>> add2(3)\n",
      "    1\n",
      "    \"\"\"\n",
      "    def inner(integer):\n",
      "        integer1= 5\n",
      "        global integer1 \n",
      "    \n",
      "        return integer + additional\n",
      "        \n",
      "    return inner\n",
      "\n",
      "# addition = lambda additional: lambda integer: integer + additional\n",
      "add5 = addition(5)\n",
      "# add5(3)\n",
      "print add5\n",
      "print integer1"
     ],
     "language": "python",
     "metadata": {},
     "outputs": [
      {
       "output_type": "stream",
       "stream": "stdout",
       "text": [
        "<function inner at 0x7fbb602555f0>\n"
       ]
      },
      {
       "output_type": "stream",
       "stream": "stderr",
       "text": [
        "<input>:13: SyntaxWarning: name 'integer1' is assigned to before global declaration\n",
        "<input>:13: SyntaxWarning: name 'integer1' is assigned to before global declaration\n",
        "<input>:13: SyntaxWarning: name 'integer1' is assigned to before global declaration\n",
        "<input>:13: SyntaxWarning: name 'integer1' is assigned to before global declaration\n",
        "<input>:13: SyntaxWarning: name 'integer1' is assigned to before global declaration\n",
        "<input>:13: SyntaxWarning: name 'integer1' is assigned to before global declaration\n",
        "<input>:13: SyntaxWarning: name 'integer1' is assigned to before global declaration\n",
        "<input>:13: SyntaxWarning: name 'integer1' is assigned to before global declaration\n",
        "<input>:13: SyntaxWarning: name 'integer1' is assigned to before global declaration\n",
        "<input>:13: SyntaxWarning: name 'integer1' is assigned to before global declaration\n",
        "<input>:13: SyntaxWarning: name 'integer1' is assigned to before global declaration\n",
        "<input>:13: SyntaxWarning: name 'integer1' is assigned to before global declaration\n",
        "<input>:13: SyntaxWarning: name 'integer1' is assigned to before global declaration\n",
        "<input>:13: SyntaxWarning: name 'integer1' is assigned to before global declaration\n",
        "<input>:13: SyntaxWarning: name 'integer1' is assigned to before global declaration\n",
        "<input>:13: SyntaxWarning: name 'integer1' is assigned to before global declaration\n",
        "<input>:13: SyntaxWarning: name 'integer1' is assigned to before global declaration\n",
        "<input>:13: SyntaxWarning: name 'integer1' is assigned to before global declaration\n",
        "<input>:13: SyntaxWarning: name 'integer1' is assigned to before global declaration\n",
        "<input>:13: SyntaxWarning: name 'integer1' is assigned to before global declaration\n",
        "<input>:13: SyntaxWarning: name 'integer1' is assigned to before global declaration\n",
        "<input>:13: SyntaxWarning: name 'integer1' is assigned to before global declaration\n",
        "<input>:13: SyntaxWarning: name 'integer1' is assigned to before global declaration\n",
        "<input>:13: SyntaxWarning: name 'integer1' is assigned to before global declaration\n",
        "<input>:13: SyntaxWarning: name 'integer1' is assigned to before global declaration\n",
        "<input>:13: SyntaxWarning: name 'integer1' is assigned to before global declaration\n",
        "<input>:13: SyntaxWarning: name 'integer1' is assigned to before global declaration\n",
        "<input>:13: SyntaxWarning: name 'integer1' is assigned to before global declaration\n",
        "<input>:13: SyntaxWarning: name 'integer1' is assigned to before global declaration\n",
        "<input>:13: SyntaxWarning: name 'integer1' is assigned to before global declaration\n",
        "<input>:13: SyntaxWarning: name 'integer1' is assigned to before global declaration\n",
        "<input>:13: SyntaxWarning: name 'integer1' is assigned to before global declaration\n",
        "<input>:13: SyntaxWarning: name 'integer1' is assigned to before global declaration\n",
        "<ipython-input-2-877c5c27c95c>:13: SyntaxWarning: name 'integer1' is assigned to before global declaration\n",
        "  global integer1\n"
       ]
      },
      {
       "ename": "NameError",
       "evalue": "name 'integer1' is not defined",
       "output_type": "pyerr",
       "traceback": [
        "\u001b[1;31m---------------------------------------------------------------------------\u001b[0m\n\u001b[1;31mNameError\u001b[0m                                 Traceback (most recent call last)",
        "\u001b[1;32m<ipython-input-2-877c5c27c95c>\u001b[0m in \u001b[0;36m<module>\u001b[1;34m()\u001b[0m\n\u001b[0;32m     21\u001b[0m \u001b[1;31m# add5(3)\u001b[0m\u001b[1;33m\u001b[0m\u001b[1;33m\u001b[0m\u001b[0m\n\u001b[0;32m     22\u001b[0m \u001b[1;32mprint\u001b[0m \u001b[0madd5\u001b[0m\u001b[1;33m\u001b[0m\u001b[0m\n\u001b[1;32m---> 23\u001b[1;33m \u001b[1;32mprint\u001b[0m \u001b[0minteger1\u001b[0m\u001b[1;33m\u001b[0m\u001b[0m\n\u001b[0m",
        "\u001b[1;31mNameError\u001b[0m: name 'integer1' is not defined"
       ]
      }
     ],
     "prompt_number": 2
    },
    {
     "cell_type": "markdown",
     "metadata": {},
     "source": [
      "3. \u041d\u0430\u043f\u0438\u0441\u0430\u0442\u044c \u0444\u0430\u0431\u0440\u0438\u043a\u0443, \u0430\u043d\u0430\u043b\u043e\u0433\u0438\u0447\u043d\u0443\u044e \u043f.2, \u043d\u043e \u0432\u043e\u0437\u0432\u0440\u0430\u0449\u0430\u044e\u0449\u0435\u0439 \u0441\u043f\u0438\u0441\u043e\u043a \u0442\u0430\u043a\u0438\u0445 \u0444\u0443\u043d\u043a\u0446\u0438\u0439"
     ]
    },
    {
     "cell_type": "code",
     "collapsed": false,
     "input": [
      "def addition_range(start, end):\n",
      "    \"\"\"\n",
      "    >>> for addition in addition_range(0, 5):\n",
      "    ...    print addition(1)\n",
      "    1\n",
      "    2\n",
      "    3\n",
      "    4\n",
      "    5\n",
      "\n",
      "    >>> print addition_range(5, 0)\n",
      "    []\n",
      "    \"\"\"\n",
      "    return [addition(val) for val in range(start, end)]\n",
      "if __name__ == \"__main__\":\n",
      "    import doctest\n",
      "    doctest.testmod()\n",
      "    \n",
      "for addition1 in addition_range(0, 5):\n",
      "    print addition1(1)"
     ],
     "language": "python",
     "metadata": {},
     "outputs": [
      {
       "output_type": "stream",
       "stream": "stdout",
       "text": [
        "1\n",
        "2\n",
        "3\n",
        "4\n",
        "5\n"
       ]
      }
     ],
     "prompt_number": 23
    },
    {
     "cell_type": "markdown",
     "metadata": {},
     "source": [
      "4. \u041d\u0430\u043f\u0438\u0441\u0430\u0442\u044c \u0430\u043d\u0430\u043b\u043e\u0433 map:\n",
      "    \u043f\u0435\u0440\u0432\u044b\u043c \u0430\u0440\u0433\u0443\u043c\u0435\u043d\u0442\u043e\u043c \u0438\u0434\u0435\u0442 \u043b\u0438\u0431\u043e \u0444\u0443\u043d\u043a\u0446\u0438\u044f, \u043b\u0438\u0431\u043e \u0441\u043f\u0438\u0441\u043e\u043a \u0444\u0443\u043d\u043a\u0446\u0438\u0439\n",
      "    \u0432\u0442\u043e\u0440\u044b\u043c \u0430\u0440\u0433\u0443\u043c\u0435\u043d\u0442\u043e\u043c \u2014 \u0441\u043f\u0438\u0441\u043e\u043a \u0430\u0440\u0433\u0443\u043c\u0435\u043d\u0442\u043e\u0432, \u043a\u043e\u0442\u043e\u0440\u044b\u0435 \u0431\u0443\u0434\u0443\u0442 \u043f\u0435\u0440\u0435\u0434\u0430\u043d\u044b \u0444\u0443\u043d\u043a\u0446\u0438\u044f\u043c\n",
      "    \u043f\u043e\u043b\u0430\u0433\u0430\u0435\u0442\u0441\u044f, \u0447\u0442\u043e \u044d\u0442\u0438 \u0444\u0443\u043d\u043a\u0446\u0438\u0438 \u2014 \u0444\u0443\u043d\u043a\u0446\u0438\u0438 \u043e\u0434\u043d\u043e\u0433\u043e \u0430\u0440\u0433\u0443\u043c\u0435\u043d\u0442\u0430"
     ]
    },
    {
     "cell_type": "code",
     "collapsed": false,
     "input": [
      "from collections import Iterable\n",
      "def mymap(funcs, args):\n",
      "    \"\"\"\n",
      "    >>> add0 = addition(0)\n",
      "    >>> add1 = addition(1)\n",
      "    >>> add2 = addition(2)\n",
      "    >>> add5 = addition(5)\n",
      "    >>> print mymap(add5, [1, 2, 3])\n",
      "    [6, 7, 8]\n",
      "\n",
      "    >>> print mymap([add0, add1, add2], [1, 2, 3])\n",
      "    [(1, 2, 3), (2, 3, 4), (3, 4, 5)]\n",
      "\n",
      "    >>> print mymap([], [])\n",
      "    []\n",
      "\n",
      "    >>> print mymap(summit, [(3, 4, 5, 6, (7,))])\n",
      "    [25]\n",
      "    \"\"\"\n",
      "    if isinstance(funcs, Iterable):\n",
      "        return [tuple(f(arg) for arg in args)  for f in funcs]\n",
      "    else:\n",
      "        return [funcs(arg) for arg in args]\n",
      "\n",
      "if __name__ == \"__main__\":\n",
      "    import doctest\n",
      "    doctest.testmod()\n",
      "    \n",
      "# add0 = addition(0)\n",
      "# add1 = addition(1)\n",
      "# add2 = addition(2)\n",
      "add5 = addition(5)\n",
      "print add5\n",
      "print mymap(add5, [1, 2, 3])  "
     ],
     "language": "python",
     "metadata": {},
     "outputs": [
      {
       "output_type": "stream",
       "stream": "stdout",
       "text": [
        "<function inner at 0x7f50b00f90c8>\n",
        "[6, 7, 8]\n"
       ]
      }
     ],
     "prompt_number": 24
    },
    {
     "cell_type": "markdown",
     "metadata": {},
     "source": [
      "5. \u041d\u0430\u043f\u0438\u0441\u0430\u0442\u044c \u0434\u043e\u043a\u0442\u0435\u0441\u0442\u044b \u0434\u043b\u044f \u0432\u0441\u0435\u0445 \u0444\u0443\u043d\u043a\u0446\u0438\u0439."
     ]
    }
   ],
   "metadata": {}
  }
 ]
}