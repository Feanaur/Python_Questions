{
 "metadata": {
  "name": "",
  "signature": "sha256:e0966db4f7ee4c5322198fec7e901aaa05367aa8b0719c5fbbff6787b840a4db"
 },
 "nbformat": 3,
 "nbformat_minor": 0,
 "worksheets": [
  {
   "cells": [
    {
     "cell_type": "markdown",
     "metadata": {},
     "source": [
      "1 \u041d\u0430\u043f\u0438\u0441\u0430\u0442\u044c \u0434\u0435\u043a\u043e\u0440\u0430\u0442\u043e\u0440 \u0434\u043e\u0431\u0430\u0432\u043b\u044f\u044e\u0449\u0438\u0439 \u043a \u0434\u043e\u043a\u0441\u0442\u0440\u0438\u043d\u0433\u0430\u043c \u0444\u0443\u043d\u043a\u0446\u0438\u0438 \u0444\u0440\u0430\u0437\u0443 \"I'm was here!:)\"."
     ]
    },
    {
     "cell_type": "code",
     "collapsed": false,
     "input": [
      "def docstring_trace_decorator(func):\n",
      "    def wrapper():\n",
      "        ''' I was here'''\n",
      "        return func()\n",
      "    wrapper.__doc__ = func.__doc__ + wrapper.__doc__\n",
      "    return wrapper\n",
      "    \n",
      "@docstring_trace_decorator    \n",
      "def foo():\n",
      "    '''!!!!!!!'''\n",
      "    return 42\n",
      "help(foo)\n",
      "print(foo())"
     ],
     "language": "python",
     "metadata": {},
     "outputs": [
      {
       "output_type": "stream",
       "stream": "stdout",
       "text": [
        "Help on function wrapper in module __main__:\n",
        "\n",
        "wrapper()\n",
        "    !!!!!!! I was here\n",
        "\n",
        "42\n"
       ]
      }
     ],
     "prompt_number": 1
    },
    {
     "cell_type": "markdown",
     "metadata": {},
     "source": [
      "2 \u041d\u0430\u043f\u0438\u0441\u0430\u0442\u044c \u0434\u0435\u043a\u043e\u0440\u0430\u0442\u043e\u0440 \u043a\u043e\u0442\u043e\u0440\u044b\u0439 c\u0447\u0438\u0442\u0430\u0435\u0442 \u0432\u0440\u0435\u043c\u044f \u0432\u044b\u043f\u043e\u043b\u043d\u0435\u043d\u0438\u044f \u0444\u0443\u043d\u043a\u0446\u0438\u0438."
     ]
    },
    {
     "cell_type": "code",
     "collapsed": false,
     "input": [
      "def time_amount(func):\n",
      "    \"\"\"\n",
      "    \u0414\u0435\u043a\u043e\u0440\u0430\u0442\u043e\u0440, \u0432\u044b\u0432\u043e\u0434\u044f\u0449\u0438\u0439 \u0432\u0440\u0435\u043c\u044f, \u043a\u043e\u0442\u043e\u0440\u043e\u0435 \u0437\u0430\u043d\u044f\u043b\u043e\n",
      "    \u0432\u044b\u043f\u043e\u043b\u043d\u0435\u043d\u0438\u0435 \u0434\u0435\u043a\u043e\u0440\u0438\u0440\u0443\u0435\u043c\u043e\u0439 \u0444\u0443\u043d\u043a\u0446\u0438\u0438.\n",
      "    \"\"\"\n",
      "    import time\n",
      "    def wrapper(*args, **kwargs):\n",
      "        t = time.clock()\n",
      "        print \"Current proccessor time: %f\" % t\n",
      "        res = func(*args, **kwargs)\n",
      "        print \"Function name: {0}\\nTime spent: {1} \".format(func.__name__, time.clock() - t)\n",
      "        return res\n",
      "    return wrapper\n",
      "\n",
      "foo = time_amount(foo)\n",
      "\n",
      "@time_amount\n",
      "def foo():\n",
      "    '''!!!!!!!'''\n",
      "    a = 0\n",
      "    for i in range(0,1000000):\n",
      "        a += i\n",
      "    return a\n",
      "\n",
      "\n",
      "foo()"
     ],
     "language": "python",
     "metadata": {},
     "outputs": [
      {
       "output_type": "stream",
       "stream": "stdout",
       "text": [
        "Current proccessor time: 0.422559\n",
        "Function name: foo\n",
        "Time spent: 0.088974 "
       ]
      },
      {
       "output_type": "stream",
       "stream": "stdout",
       "text": [
        "\n"
       ]
      },
      {
       "metadata": {},
       "output_type": "pyout",
       "prompt_number": 2,
       "text": [
        "499999500000"
       ]
      }
     ],
     "prompt_number": 2
    },
    {
     "cell_type": "markdown",
     "metadata": {},
     "source": [
      "3 \u041d\u0430\u043f\u0438\u0441\u0430\u0442\u044c \u0434\u0432\u0430 \u0434\u0435\u043a\u043e\u0440\u0430\u0442\u043e\u0440\u0430:\n",
      "    * @accepts(int,float) - \u043f\u0440\u0438\u043d\u0438\u043c\u0430\u0435\u0442 \u043d\u0430\u0431\u043e\u0440 \u0442\u0438\u043f\u043e\u0432 \u0438 \u043f\u0440\u043e\u0432\u0435\u0440\u044f\u0435\u0442, \u0447\u0442\u043e \u0432\u0445\u043e\u0434\u043d\u044b\u0435 \u043f\u0430\u0440\u0430\u043c\u0435\u0442\u0440\u044b \u0434\u0435\u043a\u043e\u0440\u0438\u0440\u0443\u0435\u043c\u043e\u0439 \u0444\u0443\u043d\u043a\u0446\u0438\u0438 \u0441\u043e\u043e\u0442\u0432\u0435\u0442\u0441\u0442\u0432\u0443\u044e\u0442 \u044d\u0442\u0438\u043c \u0442\u0438\u043f\u0430\u043c.\n",
      "    * @returns(int,float) - \u043f\u0440\u0438\u043d\u0438\u043c\u0430\u0435\u0442 \u043d\u0430\u0431\u043e\u0440 \u0442\u0438\u043f\u043e\u0432 \u0438 \u043f\u0440\u043e\u0432\u0435\u0440\u044f\u0435\u0442, \u0447\u0442\u043e \u0440\u0435\u0437\u0443\u043b\u044c\u0442\u0430\u0442 \u0440\u0430\u0431\u043e\u0442\u044b \u0444\u0443\u043d\u043a\u0446\u0438\u0438 \u0441\u043e\u043e\u0442\u0432\u0435\u0442\u0441\u0442\u0432\u0443\u0435\u0442 \u044d\u0442\u0438\u043c \u0442\u0438\u043f\u0430\u043c."
     ]
    },
    {
     "cell_type": "code",
     "collapsed": false,
     "input": [
      "def returns(*args):\n",
      "    def return_wrapper(f):\n",
      "        def check_if_match(*arg_list,**kwarg_list):\n",
      "            res=f(*arg_list,**kwarg_list)\n",
      "            if isinstance(res, args):\n",
      "                print \"Returning args are fine\"\n",
      "                return res\n",
      "            else:\n",
      "                print \"Returning args have some wrong types\"\n",
      "                raise AttributeError\n",
      "        return check_if_match\n",
      "    return return_wrapper\n",
      "               \n",
      "def accepts(*args):\n",
      "    def accept_wrapper(f):\n",
      "        def check_if_match(*arg_list,**kwarg_list):\n",
      "            ls=[str(arg) for arg in arg_list if not isinstance(arg, args)]\n",
      "            ls_dict=[\"%s=%s\" % (n,v) for n,v in kwarg_list.items() if not isinstance(v, args) ]\n",
      "            print ls_dict\n",
      "            if (len(ls)>0 or len(ls_dict)>0):\n",
      "                print \"Wrong arguments : %s %s\" % (' '.join(ls),' '.join(ls_dict))\n",
      "                raise AttributeError\n",
      "            else:\n",
      "                print \"Input args are fine\"\n",
      "                return f(*arg_list,**kwarg_list)\n",
      "        return check_if_match\n",
      "    return accept_wrapper\n",
      " \n",
      " \n",
      "@accepts(int,float)\n",
      "@returns(int,float,basestring)\n",
      "def myfunc(a,b):\n",
      "    return str(a+b)\n",
      " \n",
      "print myfunc(0,11)"
     ],
     "language": "python",
     "metadata": {},
     "outputs": [
      {
       "output_type": "stream",
       "stream": "stdout",
       "text": [
        "[]\n",
        "Input args are fine\n",
        "Returning args are fine\n",
        "11\n"
       ]
      }
     ],
     "prompt_number": 5
    },
    {
     "cell_type": "code",
     "collapsed": false,
     "input": [],
     "language": "python",
     "metadata": {},
     "outputs": []
    }
   ],
   "metadata": {}
  }
 ]
}