{
 "metadata": {
  "name": "",
  "signature": "sha256:d48bf19dce83781cea3e363d24c138f9050c2f9895a5f1332e248b33205d14e1"
 },
 "nbformat": 3,
 "nbformat_minor": 0,
 "worksheets": [
  {
   "cells": [
    {
     "cell_type": "markdown",
     "metadata": {},
     "source": [
      "\u0414\u043b\u044f \u043a\u0430\u043a\u0438\u0445 \u0446\u0435\u043b\u0435\u0439 \u0438\u0441\u043f\u043e\u043b\u044c\u0437\u0443\u0435\u0442\u0441\u044f \u0444\u0443\u043d\u043a\u0446\u0438\u044f super?"
     ]
    },
    {
     "cell_type": "markdown",
     "metadata": {},
     "source": [
      "\u0414\u043b\u044f \u0432\u044b\u0437\u043e\u0432\u0430 \u043c\u0435\u0442\u043e\u0434\u043e\u0432 \u043a\u043b\u0430\u0441\u0441\u043e\u0432 \u0441\u0442\u043e\u044f\u0449\u0438\u0445 \u0432\u044b\u0448\u0435 \u043f\u043e \u043b\u0438\u043d\u0435\u0430\u0440\u0438\u0437\u0430\u0446\u0438\u0438 \u043f\u0440\u0438 \u043d\u0430\u0441\u043b\u0435\u0434\u043e\u0432\u0430\u043d\u0438\u0438"
     ]
    },
    {
     "cell_type": "markdown",
     "metadata": {},
     "source": [
      "\u041a\u0430\u043a\u0438\u043c \u043e\u0431\u0440\u0430\u0437\u043e\u043c \u043f\u0440\u043e\u0438\u0441\u0445\u043e\u0434\u0438\u0442 \u0440\u0430\u0437\u0440\u0435\u0448\u0435\u043d\u0438\u0435 \u043f\u043e\u0441\u043b\u0435\u0434\u043e\u0432\u0430\u0442\u0435\u043b\u044c\u043d\u043e\u0441\u0442\u0438 \u043d\u0430\u0441\u043b\u0435\u0434\u0443\u044e\u043c\u044b\u0445 \u043a\u043b\u0430\u0441\u0441\u043e\u0432 \u043f\u0440\u0438 \u043c\u043d\u043e\u0436\u0435\u0441\u0442\u0432\u0435\u043d\u043d\u043e\u043c \u043d\u0430\u0441\u043b\u0435\u0434\u043e\u0432\u0430\u043d\u0438\u0438?"
     ]
    },
    {
     "cell_type": "markdown",
     "metadata": {},
     "source": [
      "\u0421\u0442\u0440\u043e\u0438\u0442\u0441\u044f \u043b\u0438\u043d\u0435\u0430\u0440\u0438\u0437\u0430\u0446\u0438\u044f \u043f\u043e \u0430\u043b\u0433\u043e\u0440\u0438\u0442\u043c\u0443 \u04213 (__mro__)"
     ]
    },
    {
     "cell_type": "markdown",
     "metadata": {},
     "source": [
      "1. \u041d\u0430\u043f\u0438\u0441\u0430\u0442\u044c \u0431\u0430\u0437\u043e\u0432\u044b\u0439 \u043a\u043b\u0430\u0441\u0441 Observable, \u043a\u043e\u0442\u043e\u0440\u044b\u0439 \u0431\u044b \u043f\u043e\u0437\u0432\u043e\u043b\u044f\u043b \u043d\u0430\u0441\u043b\u0435\u0434\u043d\u0438\u043a\u0430\u043c:\n",
      "    *\u043f\u0440\u0438 \u043f\u0435\u0440\u0435\u0434\u0430\u0447\u0435 kwargs \u0437\u0430\u043d\u043e\u0441\u0438\u0442\u044c \u0441\u043e\u043e\u0442\u0432\u0435\u0442\u0441\u0442\u0432\u0443\u044e\u0449\u0438\u0435 \u0437\u043d\u0430\u0447\u0435\u043d\u0438\u044f \u043a\u0430\u043a \u0430\u0442\u0440\u0438\u0431\u0443\u0442\u044b\n",
      "    *\u0441\u0434\u0435\u043b\u0430\u0442\u044c \u0442\u0430\u043a, \u0447\u0442\u043e\u0431\u044b \u043f\u0440\u0438 print \u043e\u0442\u043e\u0431\u0440\u0430\u0436\u0430\u043b\u0438\u0441\u044c \u0432\u0441\u0435 \u043f\u0443\u0431\u043b\u0438\u0447\u043d\u044b\u0435 \u0430\u0442\u0440\u0438\u0431\u0443\u0442\u044b"
     ]
    },
    {
     "cell_type": "code",
     "collapsed": false,
     "input": [
      "class Observable:\n",
      "    \"\"\"\n",
      "    >>> class X(Observable): pass\n",
      "    >>> x = X(foo=1, bar=5, _bazz=12, name='Amok', props=('One', 'two'))\n",
      "    >>> print x\n",
      "    X(foo=1, bar=5, name=Amok, props=('One', 'two'))\n",
      "    >>> x.foo\n",
      "    1\n",
      "    >>> x.name\n",
      "    'Amok'\n",
      "    >>> x._bazz\n",
      "    12\n",
      "    >>> x.name = 'Brian'\n",
      "    >>> x.name\n",
      "    'Brian'\n",
      "    \"\"\"\n",
      "    \n",
      "    def __init__(self, **kwargs):\n",
      "        self.__dict__.update(kwargs)\n",
      "\n",
      "    def __repr__(self):\n",
      "        return '%s(%s)' % (self.__class__.__name__,\\\n",
      "            (', '.join('%s=%s' % (key, val) for (key, val)\\\n",
      "                in self.__dict__.iteritems() if not key.startswith('_'))))"
     ],
     "language": "python",
     "metadata": {},
     "outputs": [],
     "prompt_number": 63
    },
    {
     "cell_type": "code",
     "collapsed": false,
     "input": [
      "class X(Observable): pass\n",
      "x = X(foo=1, bar=5, _bazz=12, name='Amok', props=('One', 'two'))\n",
      "print x\n",
      "print x.foo\n",
      "print x.name\n",
      "print x._bazz\n",
      "x.name = 'Brian'\n",
      "print x.name"
     ],
     "language": "python",
     "metadata": {},
     "outputs": [
      {
       "output_type": "stream",
       "stream": "stdout",
       "text": [
        "X(foo=1, bar=5, name=Amok, props=('One', 'two'))\n",
        "1\n",
        "Amok\n",
        "12\n",
        "Brian\n"
       ]
      }
     ],
     "prompt_number": 64
    },
    {
     "cell_type": "markdown",
     "metadata": {},
     "source": [
      "2. \u041d\u0430\u043f\u0438\u0441\u0430\u0442\u044c \u043a\u043b\u0430\u0441\u0441, \u043a\u043e\u0442\u043e\u0440\u044b\u0439 \u0431\u044b \u043f\u043e \u0432\u0441\u0435\u043c \u0432\u043d\u0435\u0448\u043d\u0438\u043c \u043f\u0440\u0438\u0437\u043d\u0430\u043a\u0430\u043c \u0431\u044b\u043b \u0431\u044b \u0441\u043b\u043e\u0432\u0430\u0440\u0435\u043c, \u043d\u043e \u043f\u043e\u0437\u0432\u043e\u043b\u044f\u043b \u043e\u0431\u0440\u0430\u0449\u0430\u0442\u044c\u0441\u044f \u043a \u043a\u043b\u044e\u0447\u0430\u043c \u043a\u0430\u043a \u043a \u0430\u0442\u0440\u0438\u0431\u0443\u0442\u0430\u043c."
     ]
    },
    {
     "cell_type": "code",
     "collapsed": false,
     "input": [
      "class DictAttr(dict):\n",
      "    '''\n",
      "    >>> x = DictAttr([('one', 1), ('two', 2), ('three', 3)])\n",
      "    >>> x\n",
      "    {'three': 3, 'two': 2, 'one': 1}\n",
      "    >>> x['three']\n",
      "    3\n",
      "    >>> x.get('one')\n",
      "    1\n",
      "    >>> x.get('five', 'missing')\n",
      "    'missing'\n",
      "    >>> x.one\n",
      "    1\n",
      "    >>> x.five\n",
      "    Traceback (most recent call last):\n",
      "      ...\n",
      "    AttributeError\n",
      "    '''\n",
      "    def __getattr__(self, name):\n",
      "        try:\n",
      "            return self[name]\n",
      "        except KeyError:\n",
      "            raise AttributeError\n",
      "if __name__ == \"__main__\":\n",
      "    import doctest\n",
      "    doctest.testmod()"
     ],
     "language": "python",
     "metadata": {},
     "outputs": [],
     "prompt_number": 65
    },
    {
     "cell_type": "code",
     "collapsed": false,
     "input": [
      "x = DictAttr([('one', 1), ('two', 2), ('three', 3)])\n",
      "print x\n",
      "print x['three']\n",
      "print x.get('one')\n",
      "print x.get('five', 'missing')\n",
      "print x.one\n",
      "print x.five"
     ],
     "language": "python",
     "metadata": {},
     "outputs": [
      {
       "output_type": "stream",
       "stream": "stdout",
       "text": [
        "{'three': 3, 'two': 2, 'one': 1}\n",
        "3\n",
        "1\n",
        "missing\n",
        "1\n"
       ]
      },
      {
       "ename": "AttributeError",
       "evalue": "",
       "output_type": "pyerr",
       "traceback": [
        "\u001b[1;31m---------------------------------------------------------------------------\u001b[0m\n\u001b[1;31mAttributeError\u001b[0m                            Traceback (most recent call last)",
        "\u001b[1;32m<ipython-input-66-beac3b7eab61>\u001b[0m in \u001b[0;36m<module>\u001b[1;34m()\u001b[0m\n\u001b[0;32m      5\u001b[0m \u001b[1;32mprint\u001b[0m \u001b[0mx\u001b[0m\u001b[1;33m.\u001b[0m\u001b[0mget\u001b[0m\u001b[1;33m(\u001b[0m\u001b[1;34m'five'\u001b[0m\u001b[1;33m,\u001b[0m \u001b[1;34m'missing'\u001b[0m\u001b[1;33m)\u001b[0m\u001b[1;33m\u001b[0m\u001b[0m\n\u001b[0;32m      6\u001b[0m \u001b[1;32mprint\u001b[0m \u001b[0mx\u001b[0m\u001b[1;33m.\u001b[0m\u001b[0mone\u001b[0m\u001b[1;33m\u001b[0m\u001b[0m\n\u001b[1;32m----> 7\u001b[1;33m \u001b[1;32mprint\u001b[0m \u001b[0mx\u001b[0m\u001b[1;33m.\u001b[0m\u001b[0mfive\u001b[0m\u001b[1;33m\u001b[0m\u001b[0m\n\u001b[0m",
        "\u001b[1;32m<ipython-input-65-8040c03ca486>\u001b[0m in \u001b[0;36m__getattr__\u001b[1;34m(self, name)\u001b[0m\n\u001b[0;32m     21\u001b[0m             \u001b[1;32mreturn\u001b[0m \u001b[0mself\u001b[0m\u001b[1;33m[\u001b[0m\u001b[0mname\u001b[0m\u001b[1;33m]\u001b[0m\u001b[1;33m\u001b[0m\u001b[0m\n\u001b[0;32m     22\u001b[0m         \u001b[1;32mexcept\u001b[0m \u001b[0mKeyError\u001b[0m\u001b[1;33m:\u001b[0m\u001b[1;33m\u001b[0m\u001b[0m\n\u001b[1;32m---> 23\u001b[1;33m             \u001b[1;32mraise\u001b[0m \u001b[0mAttributeError\u001b[0m\u001b[1;33m\u001b[0m\u001b[0m\n\u001b[0m\u001b[0;32m     24\u001b[0m \u001b[1;32mif\u001b[0m \u001b[0m__name__\u001b[0m \u001b[1;33m==\u001b[0m \u001b[1;34m\"__main__\"\u001b[0m\u001b[1;33m:\u001b[0m\u001b[1;33m\u001b[0m\u001b[0m\n\u001b[0;32m     25\u001b[0m     \u001b[1;32mimport\u001b[0m \u001b[0mdoctest\u001b[0m\u001b[1;33m\u001b[0m\u001b[0m\n",
        "\u001b[1;31mAttributeError\u001b[0m: "
       ]
      }
     ],
     "prompt_number": 66
    },
    {
     "cell_type": "markdown",
     "metadata": {},
     "source": [
      "3. \u041f\u0443\u043d\u043a\u0442 2 \u0441 \u0443\u0441\u043b\u043e\u0436\u043d\u0435\u043d\u0438\u0435\u043c: \u043d\u0430\u043f\u0438\u0441\u0430\u0442\u044c \u0440\u043e\u0434\u0438\u0442\u0435\u043b\u044c\u0441\u043a\u0438\u0439 \u043a\u043b\u0430\u0441\u0441 XDictAttr \u0442\u0430\u043a, \u0447\u0442\u043e\u0431\u044b \u0443 \u043d\u0430\u0441\u043b\u0435\u0434\u043d\u0438\u043a\u0430 \u0434\u0438\u043d\u0430\u043c\u0438\u0447\u0435\u0441\u043a\u0438 \u043e\u043f\u0440\u0435\u0434\u0435\u043b\u044f\u043b\u0441\u044f \u043a\u043b\u044e\u0447 \u043f\u043e \u043d\u0430\u043b\u0438\u0447\u0438\u044e \u043c\u0435\u0442\u043e\u0434\u0430 get_<KEY>."
     ]
    },
    {
     "cell_type": "code",
     "collapsed": false,
     "input": [
      "class XDictAttr(DictAttr):\n",
      "    \"\"\"\n",
      "    >>> class X(XDictAttr):\n",
      "    ...     def get_foo(self):\n",
      "    ...         return 5\n",
      "    ...     def get_bar(self):\n",
      "    ...         return 12\n",
      "\n",
      "\n",
      "    >>> x = X({'one': 1, 'two': 2, 'three': 3})\n",
      "    >>> x\n",
      "    X: { 'one': 1, 'three': 3, 'two': 2}\n",
      "    >>> x['one']\n",
      "    1\n",
      "    >>> x.three\n",
      "    3\n",
      "    >>> x.bar\n",
      "    12\n",
      "    >>> x['foo']\n",
      "    5\n",
      "    >>> x.get('foo', 'missing')\n",
      "    5\n",
      "    >>> x.get('bzz', 'missing')\n",
      "    'missing'\n",
      "    \"\"\"\n",
      "\n",
      "    def __getattr__(self, name):\n",
      "        try:\n",
      "            return super(XDictAttr, self).__getitem__(name)\n",
      "        except KeyError:\n",
      "            if not name.startswith('get_'):\n",
      "                return getattr(self, 'get_%s' % name)()\n",
      "            else:\n",
      "                raise AttributeError\n",
      "\n",
      "    def __getitem__(self, key):\n",
      "        try:\n",
      "            return super(XDictAttr, self).__getitem__(key)\n",
      "        except KeyError:\n",
      "            return getattr(self, 'get_%s' % key)()\n",
      "\n",
      "    def get(self, key, default=None):\n",
      "        try:\n",
      "            return getattr(self, 'get_%s' % key)()\n",
      "        except AttributeError:\n",
      "            return super(XDictAttr, self).get(key, default)"
     ],
     "language": "python",
     "metadata": {},
     "outputs": [],
     "prompt_number": 96
    },
    {
     "cell_type": "code",
     "collapsed": false,
     "input": [
      "class X(XDictAttr):\n",
      "    def get_foo(self):\n",
      "       return 5\n",
      "    def get_bar(self):\n",
      "       return 12\n",
      "\n",
      "\n",
      "\n",
      "x = X({'one': 1, 'two': 2, 'three': 3})\n",
      "\n",
      "print x\n",
      "print x['one']\n",
      "print x.three\n",
      "print x.bar\n",
      "print x['foo']\n",
      "print x.get('foo', 'missing')\n",
      "print x.get('bzz', 'missing')\n"
     ],
     "language": "python",
     "metadata": {},
     "outputs": [
      {
       "output_type": "stream",
       "stream": "stdout",
       "text": [
        "{'one': 1, 'three': 3, 'two': 2}\n",
        "1\n",
        "3\n",
        "12\n",
        "5\n",
        "5\n",
        "missing\n"
       ]
      }
     ],
     "prompt_number": 97
    },
    {
     "cell_type": "markdown",
     "metadata": {},
     "source": [
      "4. \u041d\u0430\u043f\u0438\u0441\u0430\u0442\u044c \u043a\u043b\u0430\u0441\u0441, \u043a\u043e\u0442\u043e\u0440\u044b\u0439 \u0440\u0435\u0433\u0438\u0441\u0442\u0440\u0438\u0440\u0443\u0435\u0442 \u0441\u0432\u043e\u0438 \u044d\u043a\u0437\u0435\u043c\u043f\u043b\u044f\u0440\u044b \u0438 \u043f\u0440\u0435\u0434\u043e\u0441\u0442\u0430\u0432\u043b\u044f\u0435\u0442 \u0438\u043d\u0442\u0435\u0440\u0444\u0435\u0439\u0441 \u0438\u0442\u0435\u0440\u0430\u0442\u043e\u0440\u0430 \u043f\u043e \u043d\u0438\u043c"
     ]
    },
    {
     "cell_type": "code",
     "collapsed": false,
     "input": [
      "class Reg:\n",
      "    instances = []\n",
      "\n",
      "    def __init__(self):\n",
      "        self.instances.append(self)\n",
      "        \n",
      "#     def __iter__(self):\n",
      "#         return self\n",
      "    def __iter__(self):\n",
      "        return iter(self.instances)    \n",
      "    def next(self):\n",
      "        counter = len(self.instances)-1\n",
      "        for i in self.instances:\n",
      "            if counter > 0:\n",
      "                counter -= 1\n",
      "                return i\n",
      "            else:\n",
      "                raise StopIteration()\n",
      "\n",
      "\n"
     ],
     "language": "python",
     "metadata": {},
     "outputs": [],
     "prompt_number": 1
    },
    {
     "cell_type": "code",
     "collapsed": false,
     "input": [
      "x = Reg()\n",
      "print x\n",
      "\n",
      "y = Reg()\n",
      "print y\n",
      "\n",
      "z = Reg()\n",
      "print z\n",
      "\n",
      "for i in y:\n",
      "    print i\n"
     ],
     "language": "python",
     "metadata": {},
     "outputs": [
      {
       "output_type": "stream",
       "stream": "stdout",
       "text": [
        "<__main__.Reg instance at 0x7f99a5e06c20>\n",
        "<__main__.Reg instance at 0x7f99a5e06c68>\n",
        "<__main__.Reg instance at 0x7f99a5e06cf8>\n",
        "<__main__.Reg instance at 0x7f99a5e06c20>\n",
        "<__main__.Reg instance at 0x7f99a5e06c68>\n",
        "<__main__.Reg instance at 0x7f99a5e06cf8>\n"
       ]
      }
     ],
     "prompt_number": 2
    },
    {
     "cell_type": "code",
     "collapsed": false,
     "input": [],
     "language": "python",
     "metadata": {},
     "outputs": [
      {
       "output_type": "stream",
       "stream": "stdout",
       "text": [
        "0\n",
        "1\n",
        "2\n",
        "3\n",
        "4\n",
        "5\n",
        "6\n",
        "7\n",
        "8\n",
        "9\n",
        "10\n",
        "11\n",
        "12\n",
        "13\n",
        "14\n"
       ]
      }
     ],
     "prompt_number": 27
    },
    {
     "cell_type": "code",
     "collapsed": false,
     "input": [],
     "language": "python",
     "metadata": {},
     "outputs": []
    }
   ],
   "metadata": {}
  }
 ]
}