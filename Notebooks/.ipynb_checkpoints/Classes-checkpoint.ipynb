{
 "metadata": {
  "name": "",
  "signature": "sha256:5de1f7f4f115678ca79700c0862d33fe08f9ddea5ca432c3c39afbd50222e775"
 },
 "nbformat": 3,
 "nbformat_minor": 0,
 "worksheets": [
  {
   "cells": [
    {
     "cell_type": "markdown",
     "metadata": {},
     "source": [
      "\u0414\u043b\u044f \u043a\u0430\u043a\u0438\u0445 \u0446\u0435\u043b\u0435\u0439 \u0438\u0441\u043f\u043e\u043b\u044c\u0437\u0443\u0435\u0442\u0441\u044f \u0444\u0443\u043d\u043a\u0446\u0438\u044f super?"
     ]
    },
    {
     "cell_type": "markdown",
     "metadata": {},
     "source": [
      "\u0414\u043b\u044f \u0432\u044b\u0437\u043e\u0432\u0430 \u043c\u0435\u0442\u043e\u0434\u043e\u0432 \u043a\u043b\u0430\u0441\u0441\u043e\u0432 \u0441\u0442\u043e\u044f\u0449\u0438\u0445 \u0432\u044b\u0448\u0435 \u043f\u043e \u043b\u0438\u043d\u0435\u0430\u0440\u0438\u0437\u0430\u0446\u0438\u0438 \u043f\u0440\u0438 \u043d\u0430\u0441\u043b\u0435\u0434\u043e\u0432\u0430\u043d\u0438\u0438"
     ]
    },
    {
     "cell_type": "markdown",
     "metadata": {},
     "source": [
      "\u041a\u0430\u043a\u0438\u043c \u043e\u0431\u0440\u0430\u0437\u043e\u043c \u043f\u0440\u043e\u0438\u0441\u0445\u043e\u0434\u0438\u0442 \u0440\u0430\u0437\u0440\u0435\u0448\u0435\u043d\u0438\u0435 \u043f\u043e\u0441\u043b\u0435\u0434\u043e\u0432\u0430\u0442\u0435\u043b\u044c\u043d\u043e\u0441\u0442\u0438 \u043d\u0430\u0441\u043b\u0435\u0434\u0443\u044e\u043c\u044b\u0445 \u043a\u043b\u0430\u0441\u0441\u043e\u0432 \u043f\u0440\u0438 \u043c\u043d\u043e\u0436\u0435\u0441\u0442\u0432\u0435\u043d\u043d\u043e\u043c \u043d\u0430\u0441\u043b\u0435\u0434\u043e\u0432\u0430\u043d\u0438\u0438?"
     ]
    },
    {
     "cell_type": "markdown",
     "metadata": {},
     "source": [
      "\u0421\u0442\u0440\u043e\u0438\u0442\u0441\u044f \u043b\u0438\u043d\u0435\u0430\u0440\u0438\u0437\u0430\u0446\u0438\u044f \u043f\u043e \u0430\u043b\u0433\u043e\u0440\u0438\u0442\u043c\u0443 \u04213 (__mro__)"
     ]
    },
    {
     "cell_type": "code",
     "collapsed": false,
     "input": [],
     "language": "python",
     "metadata": {},
     "outputs": [],
     "prompt_number": 0
    },
    {
     "cell_type": "code",
     "collapsed": false,
     "input": [
      "class Observable:\n",
      "    \"\"\"\n",
      "    >>> class X(Observable): pass\n",
      "    >>> x = X(foo=1, bar=5, _bazz=12, name='Amok', props=('One', 'two'))\n",
      "    >>> print x\n",
      "    X(bar=5, foo=1, name=Amok, props=('One', 'two'), )\n",
      "    >>> x.foo\n",
      "    1\n",
      "    >>> x.name\n",
      "    'Amok'\n",
      "    >>> x._bazz\n",
      "    12\n",
      "    >>> x.name = 'Brian'\n",
      "    >>> x.name\n",
      "    'Brian'\n",
      "    \"\"\"\n",
      "    def __init__(self, **kwargs):\n",
      "        for arg in kwargs.keys():\n",
      "            setattr(self, arg, kwargs[arg])\n",
      "    def __repr__(self):\n",
      "        output = self.__class__.__name__\n",
      "        output += '('\n",
      "        length = len(dir(self))\n",
      "        for i,atr in enumerate(dir(self)):\n",
      "            if atr[0] != '_':\n",
      "                output += atr + '=' + str(getattr(self, atr))\n",
      "                if i!=length:\n",
      "                    output+=', '\n",
      "        output += ')'\n",
      "        return output"
     ],
     "language": "python",
     "metadata": {},
     "outputs": [],
     "prompt_number": 40
    },
    {
     "cell_type": "code",
     "collapsed": false,
     "input": [
      "class X(Observable): pass\n",
      "x = X(foo=1, bar=5, _bazz=12, name='Amok', props=('One', 'two'))\n",
      "print x"
     ],
     "language": "python",
     "metadata": {},
     "outputs": [
      {
       "output_type": "stream",
       "stream": "stdout",
       "text": [
        "9\n",
        "X(bar=5, foo=1, name=Amok, props=('One', 'two'), )\n"
       ]
      }
     ],
     "prompt_number": 41
    },
    {
     "cell_type": "code",
     "collapsed": false,
     "input": [],
     "language": "python",
     "metadata": {},
     "outputs": [],
     "prompt_number": 0
    },
    {
     "cell_type": "code",
     "collapsed": false,
     "input": [],
     "language": "python",
     "metadata": {},
     "outputs": []
    }
   ],
   "metadata": {}
  }
 ]
}