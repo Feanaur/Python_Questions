{
 "metadata": {
  "name": "",
  "signature": "sha256:c27adb925f077cde923f535d16ef36b873d267703805995199c2e74216ca7d9d"
 },
 "nbformat": 3,
 "nbformat_minor": 0,
 "worksheets": [
  {
   "cells": [
    {
     "cell_type": "markdown",
     "metadata": {},
     "source": [
      "1. \u041d\u0430\u043f\u0438\u0441\u0430\u0442\u044c \u0444\u0443\u043d\u043a\u0446\u0438\u044e-\u0433\u0435\u043d\u0435\u0440\u0430\u0442\u043e\u0440 cycle \u043a\u043e\u0442\u043e\u0440\u0430\u044f \u0431\u044b \u0432\u043e\u0437\u0432\u0440\u0430\u0449\u0430\u043b\u0430 \u0446\u0438\u043a\u043b\u0438\u0447\u0435\u0441\u043a\u0438\u0439 \u0438\u0442\u0435\u0440\u0430\u0442\u043e\u0440."
     ]
    },
    {
     "cell_type": "code",
     "collapsed": false,
     "input": [
      "def cycle(iterator):\n",
      "    '''\n",
      "    Returns iterator that never ends\n",
      "    >>> i = iter([1, 2, 3])\n",
      "    >>> c = cycle(i)\n",
      "    >>> c.next()\n",
      "    1\n",
      "    >>> c.next()\n",
      "    2\n",
      "    >>> c.next()\n",
      "    3\n",
      "    >>> c.next()\n",
      "    1\n",
      "    '''\n",
      "    l = list(iterator)\n",
      "    while True:\n",
      "        for elem in l:\n",
      "            yield elem  \n",
      "                \n",
      "i = iter([1,2,3])\n",
      "c = cycle(i)\n",
      "help(cycle)\n",
      "for i in range(0,5):\n",
      "    print c.next()"
     ],
     "language": "python",
     "metadata": {},
     "outputs": [
      {
       "output_type": "stream",
       "stream": "stdout",
       "text": [
        "Help on function cycle in module __main__:\n",
        "\n",
        "cycle(iterator)\n",
        "    Returns iterator that never ends\n",
        "    >>> i = iter([1, 2, 3])\n",
        "    >>> c = cycle(i)\n",
        "    >>> c.next()\n",
        "    1\n",
        "    >>> c.next()\n",
        "    2\n",
        "    >>> c.next()\n",
        "    3\n",
        "    >>> c.next()\n",
        "    1\n",
        "\n",
        "1\n",
        "2\n",
        "3\n",
        "1\n",
        "2\n"
       ]
      }
     ],
     "prompt_number": 47
    },
    {
     "cell_type": "markdown",
     "metadata": {},
     "source": [
      "2. \u041d\u0430\u043f\u0438\u0441\u0430\u0442\u044c \u0444\u0443\u043d\u043a\u0446\u0438\u044e-\u0433\u0435\u043d\u0435\u0440\u0430\u0442\u043e\u0440 chain, \u043a\u043e\u0442\u043e\u0440\u0430\u044f \u043f\u043e\u0441\u043b\u0435\u0434\u043e\u0432\u0430\u0442\u0435\u043b\u044c\u043d\u043e \u0438\u0442\u0435\u0440\u0438\u0440\u0443\u0435\u0442 \u043f\u0435\u0440\u0435\u0434\u0430\u043d\u043d\u044b\u0435 \u043e\u0431\u044a\u0435\u043a\u0442\u044b (\u043f\u0440\u043e\u0438\u0437\u0432\u043e\u043b\u044c\u043d\u043e\u0435 \u043a\u043e\u043b\u0438\u0447\u0435\u0441\u0442\u0432\u043e)"
     ]
    },
    {
     "cell_type": "code",
     "collapsed": false,
     "input": [
      "def chain(*iterators):\n",
      "    '''\n",
      "    Concatenates several iterators into one:\n",
      "    >>> i1 = iter([1, 2, 3])\n",
      "    >>> i2 = iter([4, 5])\n",
      "    >>> c = chain(i1, i2)\n",
      "    >>> c.next()\n",
      "    1\n",
      "    >>> c.next()\n",
      "    2\n",
      "    >>> c.next()\n",
      "    3\n",
      "    >>> c.next()\n",
      "    4\n",
      "    >>> c.next()\n",
      "    5\n",
      "    >>> c.next()\n",
      "    Traceback (most recent call last):\n",
      "      ...\n",
      "    StopIteration\n",
      "    '''\n",
      "    for iterator in iterators:\n",
      "        l = list(iterator)\n",
      "        for element in l:\n",
      "            yield element\n",
      "\n",
      "i1 = iter([1, 2, 3])\n",
      "i2 = iter([4, 5])\n",
      "c = chain(i1, i2)\n",
      "help(chain)\n",
      "for i in range(0,5):\n",
      "    print c.next()"
     ],
     "language": "python",
     "metadata": {},
     "outputs": [
      {
       "output_type": "stream",
       "stream": "stdout",
       "text": [
        "Help on function chain in module __main__:\n",
        "\n",
        "chain(*iterators)\n",
        "    Concatenates two iterators into one:\n",
        "    >>> i1 = iter([1, 2, 3])\n",
        "    >>> i2 = iter([4, 5])\n",
        "    >>> c = chain(i1, i2)\n",
        "    >>> c.next()\n",
        "    1\n",
        "    >>> c.next()\n",
        "    2\n",
        "    >>> c.next()\n",
        "    3\n",
        "    >>> c.next()\n",
        "    4\n",
        "    >>> c.next()\n",
        "    5\n",
        "    >>> c.next()\n",
        "    Traceback (most recent call last):\n",
        "      ...\n",
        "    StopIteration\n",
        "\n",
        "1\n",
        "2\n",
        "3\n",
        "4\n",
        "5\n"
       ]
      }
     ],
     "prompt_number": 46
    },
    {
     "cell_type": "code",
     "collapsed": false,
     "input": [],
     "language": "python",
     "metadata": {},
     "outputs": []
    },
    {
     "cell_type": "code",
     "collapsed": false,
     "input": [],
     "language": "python",
     "metadata": {},
     "outputs": []
    }
   ],
   "metadata": {}
  }
 ]
}