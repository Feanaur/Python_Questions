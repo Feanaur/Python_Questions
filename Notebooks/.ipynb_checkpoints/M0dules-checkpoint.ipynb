{
 "metadata": {
  "name": "",
  "signature": "sha256:eac7b461c0bddc41a56c7b16867af890e788ff40a22f20fe1b840e6eca542bb8"
 },
 "nbformat": 3,
 "nbformat_minor": 0,
 "worksheets": [
  {
   "cells": [
    {
     "cell_type": "markdown",
     "metadata": {},
     "source": [
      "1. \u0423 \u043d\u0430\u0441 \u0435\u0441\u0442\u044c \u0438\u043c\u043f\u043e\u0440\u0442\u0438\u0440\u043e\u0432\u0430\u043d\u043d\u044b\u0439 \u043c\u043e\u0434\u0443\u043b\u044c foo, \u043a\u0430\u043a \u0443\u0437\u043d\u0430\u0442\u044c \u0444\u0438\u0437\u0438\u0447\u0435\u0441\u043a\u0438\u0439 \u043f\u0443\u0442\u044c \u0444\u0430\u0439\u043b\u0430, \u043e\u0442\u043a\u0443\u0434\u0430 \u043e\u043d \u0438\u043c\u043f\u043e\u0440\u0442\u0438\u0440\u043e\u0432\u0430\u043d?"
     ]
    },
    {
     "cell_type": "code",
     "collapsed": false,
     "input": [
      "#import sys\n",
      "#print sys.__file__\n",
      "#doesn`t work here"
     ],
     "language": "python",
     "metadata": {},
     "outputs": [],
     "prompt_number": 1
    },
    {
     "cell_type": "markdown",
     "metadata": {},
     "source": [
      "2. \u0418\u0437 \u043c\u043e\u0434\u0443\u043b\u044f foo \u0432\u044b \u0438\u043c\u043f\u043e\u0440\u0442\u0438\u0440\u0443\u0435\u0442\u0435 \u043c\u043e\u0434\u0443\u043b\u044c feedparser. \u0412\u0435\u0440\u0441\u0438\u044f X feedparser'\u0430 \u0435\u0441\u0442\u044c \u0432 \u043e\u0431\u0449\u0435\u0441\u0438\u0441\u0442\u0435\u043c\u043d\u043e\u043c \u043a\u0430\u0442\u0430\u043b\u043e\u0433\u0435 site-packages, \u0432\u0435\u0440\u0441\u0438\u044f Y \u2014 \u0440\u044f\u0434\u043e\u043c \u0441 \u043c\u043e\u0434\u0443\u043b\u0435\u043c foo. \u041e\u043f\u0440\u0435\u0434\u0435\u043b\u0435\u043d\u0430 \u043f\u0435\u0440\u0435\u043c\u0435\u043d\u043d\u0430\u044f \u043e\u043a\u0440\u0443\u0436\u0435\u043d\u0438\u044f PYTHONPATH, \u0438 \u0442\u0430\u043c \u0442\u043e\u0436\u0435 \u0435\u0441\u0442\u044c feedparser, \u0432\u0435\u0440\u0441\u0438\u0438 Z. \u041a\u0430\u043a\u0430\u044f \u0432\u0435\u0440\u0441\u0438\u044f \u0431\u0443\u0434\u0435\u0442 \u0438\u0441\u043f\u043e\u043b\u044c\u0437\u043e\u0432\u0430\u0442\u044c\u0441\u044f?"
     ]
    },
    {
     "cell_type": "markdown",
     "metadata": {},
     "source": [
      "When a module named spam is imported, the interpreter first searches for a built-in module with that name. If not found, it then searches for a file named spam.py in a list of directories given by the variable sys.path. sys.path is initialized from these locations:\n",
      "\n",
      "* The directory containing the input script (or the current directory when no file is specified).\n",
      "* PYTHONPATH (a list of directory names, with the same syntax as the shell variable PATH).\n",
      "* The installation-dependent default."
     ]
    },
    {
     "cell_type": "markdown",
     "metadata": {},
     "source": [
      "3. \u041a\u0430\u043a \u043f\u043e\u0441\u043c\u043e\u0442\u0440\u0435\u0442\u044c \u0441\u043f\u0438\u0441\u043e\u043a \u043a\u0430\u0442\u0430\u043b\u043e\u0433\u043e\u0432, \u0432 \u043a\u043e\u0442\u043e\u0440\u044b\u0445 Python \u0438\u0449\u0435\u0442 \u043c\u043e\u0434\u0443\u043b\u0438?"
     ]
    },
    {
     "cell_type": "code",
     "collapsed": false,
     "input": [
      "sys.path"
     ],
     "language": "python",
     "metadata": {},
     "outputs": []
    },
    {
     "cell_type": "markdown",
     "metadata": {},
     "source": [
      "4. \u0423 \u0432\u0430\u0441 \u0435\u0441\u0442\u044c \u043c\u043e\u0434\u0443\u043b\u044c foo, \u0432\u043d\u0443\u0442\u0440\u0438 \u043d\u0435\u0433\u043e \u0438\u043c\u043f\u043e\u0440\u0442\u0438\u0440\u0443\u0435\u0442\u0441\u044f \u043c\u043e\u0434\u0443\u043b\u044c bar. \u0420\u044f\u0434\u043e\u043c \u0441 \u043c\u043e\u0434\u0443\u043b\u0435\u043c foo \u0435\u0441\u0442\u044c \u0444\u0430\u0439\u043b\u044b bar.py \u0438 bar/__init__.py \u041a\u0430\u043a\u043e\u0439 \u043c\u043e\u0434\u0443\u043b\u044c \u0431\u0443\u0434\u0435\u0442 \u0438\u0441\u043f\u043e\u043b\u044c\u0437\u043e\u0432\u0430\u0442\u044c\u0441\u044f."
     ]
    },
    {
     "cell_type": "code",
     "collapsed": false,
     "input": [
      "bar/__init__.py"
     ],
     "language": "python",
     "metadata": {},
     "outputs": []
    },
    {
     "cell_type": "markdown",
     "metadata": {},
     "source": [
      "5. \u0427\u0442\u043e \u043e\u0437\u043d\u0430\u0447\u0430\u0435\u0442 \u0438 \u0434\u043b\u044f \u0447\u0435\u0433\u043e \u0438\u0441\u043f\u043e\u043b\u044c\u0437\u0443\u0435\u0442\u0441\u044f \u043a\u043e\u043d\u0441\u0442\u0440\u0443\u043a\u0446\u0438\u044f __name__ == '__main__'"
     ]
    },
    {
     "cell_type": "markdown",
     "metadata": {},
     "source": [
      "\u0421\u0440\u0430\u0432\u043d\u0435\u043d\u0438\u0435 \u0438\u043c\u0435\u043d\u0438 \u043c\u043e\u0434\u0443\u043b\u044f \u0434\u043b\u044f \u043e\u043f\u0440\u0435\u0434\u0435\u043b\u0435\u043d\u0438\u044f \u0431\u044b\u043b \u043b\u0438 \u043e\u043d \u0438\u043c\u043f\u043e\u0440\u0442\u0438\u0440\u043e\u0432\u0430\u043d \u0438\u043b\u0438 \u0437\u0430\u043f\u0443\u0449\u0435\u043d \u043d\u0435\u043f\u043e\u0441\u0440\u0435\u0434\u0441\u0442\u0432\u0435\u043d\u043d\u043e."
     ]
    }
   ],
   "metadata": {}
  }
 ]
}